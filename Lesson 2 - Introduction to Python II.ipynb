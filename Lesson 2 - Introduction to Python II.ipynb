{
 "cells": [
  {
   "cell_type": "markdown",
   "metadata": {},
   "source": [
    "<h1><center>Functional Decomposition and Abstraction</center></h1>\n",
    "<div style=\"margin-left:100px;\">\n",
    "<ul>\n",
    "        <li>A Python function takes input parameters and returns output results</li>\n",
    "        <li>A function starts with the \"def\" keyword</li>\n",
    "        <li>Calling the function will pass control from the calling command to the called function</li>\n",
    "        <li>Make sure the number of parameters called match with the number of parameters and type</li>\n",
    "        <li>Enclose programming statements in a function to transform inputs into outputs</li>\n",
    "        <li>Built-in functions can come with Python (e.g. y = len(list)) and other imported external modules</li>\n",
    "        <li>A function can take it multiple input parameters (e.g. def Multi(a,b):)</li>\n",
    "        <li>Global and local variables can be initialized and used inside a Python program but only local variables exist inside a function</li>\n",
    "</ul>\n",
    "</div>"
   ]
  },
  {
   "cell_type": "code",
   "execution_count": 1,
   "metadata": {},
   "outputs": [
    {
     "name": "stdout",
     "output_type": "stream",
     "text": [
      "3\n",
      "4\n",
      "4\n"
     ]
    }
   ],
   "source": [
    "# Create a rounding function given rounded_to_int(x) and x can be any integer or float.\n",
    "# so rounded_to_int(3.14) will return 3 and rounded_to_int(3.54) will return 4. \n",
    "# Create a rounding function\n",
    "\n",
    "def rounded_to_int2(x):\n",
    "    str_x = str(x)\n",
    "    pos = str_x.find('.')+1\n",
    "    val = str(x)[pos:pos+1]\n",
    "    if (val in \"1234\"):\n",
    "        x = x\n",
    "        result = str(x)[0:pos-1]\n",
    "    else:\n",
    "        x = x + 1\n",
    "        result = str(x)[0:pos-1]\n",
    "    return result\n",
    "\n",
    "\n",
    "def rounded_to_int(x):\n",
    "    pos = str(x).find(\".\")+1\n",
    "    val = str(x)[pos:pos+1]\n",
    "    if (int(val) >= 5):\n",
    "        result = str(x+1)[0:pos-1]\n",
    "    else:\n",
    "        result = str(x)[0:pos-1]\n",
    "    return result\n",
    "\n",
    "print(rounded_to_int(3.14))\n",
    "print(rounded_to_int(3.54))\n",
    "print(rounded_to_int2(3.54))"
   ]
  },
  {
   "cell_type": "markdown",
   "metadata": {},
   "source": [
    "<h1>Entering the temperature in Celcius through input box inside a loop and print out each day's temperature and calculate the weekly average in Fahrenheit.</h1>"
   ]
  },
  {
   "cell_type": "markdown",
   "metadata": {},
   "source": [
    "<h3>Formula for converting Celcius into Fahrenheit: (23°C × 9/5) + 32 = 73.4°F\n",
    "Create a list of temperature in Fahrenheit for the week based on the temperature of Celcius as follows:</h3>\n",
    "\n",
    "    Sun  Mon  Tue  Wed  Thu  Fri  Sat\n",
    "    23°C 24°C  28°C 19°C 17°C  21°C 25°C"
   ]
  },
  {
   "cell_type": "code",
   "execution_count": 4,
   "metadata": {},
   "outputs": [
    {
     "name": "stdout",
     "output_type": "stream",
     "text": [
      "Enter Sun's temperature in celcius:23\n",
      "Sun's temperature in Fahrenheit:73.4\n",
      "Enter Mon's temperature in celcius:24\n",
      "Mon's temperature in Fahrenheit:75.2\n",
      "Enter Tue's temperature in celcius:28\n",
      "Tue's temperature in Fahrenheit:82.4\n",
      "Enter Wed's temperature in celcius:19\n",
      "Wed's temperature in Fahrenheit:66.2\n",
      "Enter Thu's temperature in celcius:17\n",
      "Thu's temperature in Fahrenheit:62.6\n",
      "Enter Fri's temperature in celcius:21\n",
      "Fri's temperature in Fahrenheit:69.8\n",
      "Enter Sat's temperature in celcius:25\n",
      "Sat's temperature in Fahrenheit:77.0\n",
      "\n",
      "\n",
      "Average temperature for the week:72.37\n"
     ]
    }
   ],
   "source": [
    "weekly_temp = []\n",
    "total_temp = 0\n",
    "week_of_day =['Sun','Mon','Tue','Wed','Thu','Fri','Sat']\n",
    "for i in week_of_day:\n",
    "    temp = input(\"Enter \" + i + \"'s temperature in celcius:\")\n",
    "    temp = (float(temp) * 9/5) + 32 \n",
    "    weekly_temp.append(temp)\n",
    "    print(i + \"'s temperature in Fahrenheit:\" + str(temp))\n",
    "    total_temp = total_temp + float(temp)\n",
    "avg_temp = round((total_temp/7),2)\n",
    "print(\"\\n\")\n",
    "print(\"Average temperature for the week:\" + str(avg_temp))"
   ]
  },
  {
   "cell_type": "markdown",
   "metadata": {},
   "source": [
    "<h2>Formula for converting Celcius into Fahrenheit: (23°C × 9/5) + 32 = 73.4°F\n",
    "Create a list of temperature in Fahrenheit for the week based on the temperature of Celcius but implement the codes with Python functions.</h2>"
   ]
  },
  {
   "cell_type": "markdown",
   "metadata": {},
   "source": [
    "<h2>After processing the loop, the <span style=\"color:red;\">weekly_temp</span> list contains the daily temperature throughout the week.</h2>"
   ]
  },
  {
   "cell_type": "code",
   "execution_count": 5,
   "metadata": {},
   "outputs": [
    {
     "data": {
      "text/plain": [
       "[73.4, 75.2, 82.4, 66.2, 62.6, 69.8, 77.0]"
      ]
     },
     "execution_count": 5,
     "metadata": {},
     "output_type": "execute_result"
    }
   ],
   "source": [
    "weekly_temp"
   ]
  },
  {
   "cell_type": "code",
   "execution_count": 6,
   "metadata": {},
   "outputs": [
    {
     "name": "stdout",
     "output_type": "stream",
     "text": [
      "Enter Sun's temperature in celcius:23\n",
      "Sun's temperature in Fahrenheit:73.4\n",
      "Enter Mon's temperature in celcius:24\n",
      "Mon's temperature in Fahrenheit:75.2\n",
      "Enter Tue's temperature in celcius:28\n",
      "Tue's temperature in Fahrenheit:82.4\n",
      "Enter Wed's temperature in celcius:19\n",
      "Wed's temperature in Fahrenheit:66.2\n",
      "Enter Thu's temperature in celcius:17\n",
      "Thu's temperature in Fahrenheit:62.6\n",
      "Enter Fri's temperature in celcius:21\n",
      "Fri's temperature in Fahrenheit:69.8\n",
      "Enter Sat's temperature in celcius:25\n",
      "Sat's temperature in Fahrenheit:77.0\n",
      "\n",
      "Average temperature for the week:72.37\n"
     ]
    }
   ],
   "source": [
    "def convert_temp(temp):\n",
    "    f_value = 0\n",
    "    f_value = (float(temp) * 9/5) + 32\n",
    "    return f_value\n",
    "\n",
    "def compute_total_temp(temp, total_temp):\n",
    "    total_temp = total_temp + float(temp)\n",
    "    return total_temp\n",
    "\n",
    "def get_daily_celcius():\n",
    "    # Declare major variables used\n",
    "    total_temp = 0\n",
    "    week_of_day =['Sun','Mon','Tue','Wed','Thu','Fri','Sat']\n",
    "\n",
    "    for i in week_of_day:\n",
    "        temp = input(\"Enter \" + i + \"'s temperature in celcius:\")\n",
    "        f_temp = convert_temp(temp)\n",
    "        print(i + \"'s temperature in Fahrenheit:\" + str(f_temp))\n",
    "        total_temp = compute_total_temp(f_temp, total_temp)\n",
    "    return total_temp\n",
    "        \n",
    "def display_avg(total_temp):\n",
    "    avg_temp = round((total_temp/7),2)\n",
    "    print(\"\\n\" + \"Average temperature for the week:\" + str(avg_temp))\n",
    "    return\n",
    "\n",
    "total_temp = 0\n",
    "total_temp = get_daily_celcius()\n",
    "display_avg(total_temp)\n"
   ]
  },
  {
   "cell_type": "markdown",
   "metadata": {},
   "source": [
    "<center><h2>What is a module?</h2></center>\n",
    "<br>\n",
    "A module is an external Python file which contains the functions that can be imported into the current Python program to be used."
   ]
  },
  {
   "cell_type": "code",
   "execution_count": 7,
   "metadata": {},
   "outputs": [
    {
     "name": "stdout",
     "output_type": "stream",
     "text": [
      "Enter Sun's temperature in celcius:23\n",
      "Sun's temperature in Fahrenheit:73.4\n",
      "Enter Mon's temperature in celcius:24\n",
      "Mon's temperature in Fahrenheit:75.2\n",
      "Enter Tue's temperature in celcius:28\n",
      "Tue's temperature in Fahrenheit:82.4\n",
      "Enter Wed's temperature in celcius:19\n",
      "Wed's temperature in Fahrenheit:66.2\n",
      "Enter Thu's temperature in celcius:17\n",
      "Thu's temperature in Fahrenheit:62.6\n",
      "Enter Fri's temperature in celcius:21\n",
      "Fri's temperature in Fahrenheit:69.8\n",
      "Enter Sat's temperature in celcius:25\n",
      "Sat's temperature in Fahrenheit:77.0\n",
      "\n",
      "Average temperature for the week:72.37\n"
     ]
    }
   ],
   "source": [
    "from convert_temp import *\n",
    "# Move the following functions into convert_temp module file.\n",
    "\n",
    "total_temp = 0\n",
    "total_temp = get_daily_celcius()\n",
    "display_avg(total_temp)"
   ]
  },
  {
   "cell_type": "markdown",
   "metadata": {},
   "source": [
    "# <center><h1>A TA Fee Computation Example</h1></center>"
   ]
  },
  {
   "cell_type": "code",
   "execution_count": 8,
   "metadata": {},
   "outputs": [
    {
     "name": "stdout",
     "output_type": "stream",
     "text": [
      "2816.0\n"
     ]
    }
   ],
   "source": [
    "def compute_ta_fees(hrs,rate):\n",
    "    fee = hrs*rate\n",
    "    return fee\n",
    "\n",
    "ta_fees = compute_ta_fees(40,70.40)\n",
    "print(ta_fees)"
   ]
  },
  {
   "cell_type": "code",
   "execution_count": 9,
   "metadata": {},
   "outputs": [
    {
     "name": "stdout",
     "output_type": "stream",
     "text": [
      "Bernard has received $1812.0.\n"
     ]
    }
   ],
   "source": [
    "def compute_ta_fees(hrs,rate,name):\n",
    "    fee = hrs*rate\n",
    "    return name + \" has received $\" + str(fee) + \".\"\n",
    "\n",
    "ta_fees = compute_ta_fees(30,60.40,'Bernard')\n",
    "print(ta_fees)"
   ]
  },
  {
   "cell_type": "code",
   "execution_count": 10,
   "metadata": {},
   "outputs": [
    {
     "name": "stdout",
     "output_type": "stream",
     "text": [
      "Mary's mom has received $484.56.\n"
     ]
    }
   ],
   "source": [
    "def compute_ta_fees(hrs,rate,name):\n",
    "    fee = hrs*rate\n",
    "    money_to_mom = fee*.2\n",
    "    return name + \"'s mom has received $\" + str(round(money_to_mom,2)) + \".\"\n",
    "\n",
    "ta_fees = compute_ta_fees(36,67.30,'Mary')\n",
    "print(ta_fees)"
   ]
  },
  {
   "cell_type": "code",
   "execution_count": 11,
   "metadata": {},
   "outputs": [
    {
     "name": "stdout",
     "output_type": "stream",
     "text": [
      "John's mom has received $390.0.\n",
      "Mike's mom has received $600.0.\n",
      "Mary's mom has received $650.0.\n",
      "Jane's mom has received $900.0.\n",
      "[\"John's mom has received $390.0.\", \"Mike's mom has received $600.0.\", \"Mary's mom has received $650.0.\", \"Jane's mom has received $900.0.\"]\n"
     ]
    }
   ],
   "source": [
    "def compute_ta_fees(hrs,rate,name):\n",
    "    fee = hrs*rate\n",
    "    money_to_mom = fee*.2\n",
    "    return name + \"'s mom has received $\" + str(money_to_mom) + \".\"\n",
    "\n",
    "# print ta_fees\n",
    "hrs_list = [30.0,40.0,50.0,60.0]\n",
    "rate_list = [65.0,75.0,65.0,75.0]\n",
    "name_list = ['John',\"Mike\",\"Mary\",\"Jane\"]\n",
    "index = 0\n",
    "output_list = []\n",
    "for number in name_list:\n",
    "        hrs = hrs_list[index]\n",
    "        rate = rate_list[index]\n",
    "        name = name_list[index]        \n",
    "        ta_fees = compute_ta_fees(hrs,rate,name)\n",
    "        print(ta_fees)\n",
    "        output_list.append(ta_fees)\n",
    "        index = index + 1\n",
    "print(output_list)"
   ]
  },
  {
   "cell_type": "markdown",
   "metadata": {},
   "source": [
    "<div style=\"padding-top:5px;background:black;color:white;\"><h1><center>Creating Pandas Data Frames from Lists and Dictionaries</center></h1></div>"
   ]
  },
  {
   "cell_type": "code",
   "execution_count": 18,
   "metadata": {},
   "outputs": [
    {
     "data": {
      "text/html": [
       "<div>\n",
       "<style scoped>\n",
       "    .dataframe tbody tr th:only-of-type {\n",
       "        vertical-align: middle;\n",
       "    }\n",
       "\n",
       "    .dataframe tbody tr th {\n",
       "        vertical-align: top;\n",
       "    }\n",
       "\n",
       "    .dataframe thead th {\n",
       "        text-align: right;\n",
       "    }\n",
       "</style>\n",
       "<table border=\"1\" class=\"dataframe\">\n",
       "  <thead>\n",
       "    <tr style=\"text-align: right;\">\n",
       "      <th></th>\n",
       "      <th>Feb</th>\n",
       "      <th>Jan</th>\n",
       "      <th>Mar</th>\n",
       "      <th>Student</th>\n",
       "    </tr>\n",
       "  </thead>\n",
       "  <tbody>\n",
       "    <tr>\n",
       "      <th>0</th>\n",
       "      <td>85</td>\n",
       "      <td>90</td>\n",
       "      <td>88</td>\n",
       "      <td>David Chan</td>\n",
       "    </tr>\n",
       "    <tr>\n",
       "      <th>1</th>\n",
       "      <td>75</td>\n",
       "      <td>72</td>\n",
       "      <td>68</td>\n",
       "      <td>Peter Lee</td>\n",
       "    </tr>\n",
       "    <tr>\n",
       "      <th>2</th>\n",
       "      <td>80</td>\n",
       "      <td>60</td>\n",
       "      <td>100</td>\n",
       "      <td>John Lui</td>\n",
       "    </tr>\n",
       "  </tbody>\n",
       "</table>\n",
       "</div>"
      ],
      "text/plain": [
       "   Feb  Jan  Mar     Student\n",
       "0   85   90   88  David Chan\n",
       "1   75   72   68   Peter Lee\n",
       "2   80   60  100    John Lui"
      ]
     },
     "execution_count": 18,
     "metadata": {},
     "output_type": "execute_result"
    }
   ],
   "source": [
    "import pandas as pd\n",
    "# Define a list of dictionaries\n",
    "scores = [{'Student': 'David Chan', 'Jan': 90, 'Feb': 85, 'Mar': 88},\n",
    "         {'Student': 'Peter Lee',  'Jan': 72, 'Feb': 75, 'Mar': 68},\n",
    "         {'Student': 'John Lui',  'Jan': 60,  'Feb': 80,  'Mar': 100 }]\n",
    "\n",
    "df = pd.DataFrame(scores) # Assign the list of dictionaries to a dataframe\n",
    "df # display dataframe"
   ]
  },
  {
   "cell_type": "code",
   "execution_count": 17,
   "metadata": {},
   "outputs": [
    {
     "name": "stdout",
     "output_type": "stream",
     "text": [
      "[{'id': '1111', 'name': 'David Chan', 'email': 'david@cuhk.edu.hk'}, {'id': '1112', 'name': 'Peter Lee', 'email': 'peter@cuhk.edu.hk'}, {'id': '1113', 'name': 'Mary Fung', 'email': 'mary@cuhk.edu.hk'}]\n"
     ]
    },
    {
     "data": {
      "text/html": [
       "<div>\n",
       "<style scoped>\n",
       "    .dataframe tbody tr th:only-of-type {\n",
       "        vertical-align: middle;\n",
       "    }\n",
       "\n",
       "    .dataframe tbody tr th {\n",
       "        vertical-align: top;\n",
       "    }\n",
       "\n",
       "    .dataframe thead th {\n",
       "        text-align: right;\n",
       "    }\n",
       "</style>\n",
       "<table border=\"1\" class=\"dataframe\">\n",
       "  <thead>\n",
       "    <tr style=\"text-align: right;\">\n",
       "      <th></th>\n",
       "      <th>email</th>\n",
       "      <th>id</th>\n",
       "      <th>name</th>\n",
       "    </tr>\n",
       "  </thead>\n",
       "  <tbody>\n",
       "    <tr>\n",
       "      <th>0</th>\n",
       "      <td>david@cuhk.edu.hk</td>\n",
       "      <td>1111</td>\n",
       "      <td>David Chan</td>\n",
       "    </tr>\n",
       "    <tr>\n",
       "      <th>1</th>\n",
       "      <td>peter@cuhk.edu.hk</td>\n",
       "      <td>1112</td>\n",
       "      <td>Peter Lee</td>\n",
       "    </tr>\n",
       "    <tr>\n",
       "      <th>2</th>\n",
       "      <td>mary@cuhk.edu.hk</td>\n",
       "      <td>1113</td>\n",
       "      <td>Mary Fung</td>\n",
       "    </tr>\n",
       "  </tbody>\n",
       "</table>\n",
       "</div>"
      ],
      "text/plain": [
       "               email    id        name\n",
       "0  david@cuhk.edu.hk  1111  David Chan\n",
       "1  peter@cuhk.edu.hk  1112   Peter Lee\n",
       "2   mary@cuhk.edu.hk  1113   Mary Fung"
      ]
     },
     "execution_count": 17,
     "metadata": {},
     "output_type": "execute_result"
    }
   ],
   "source": [
    "import pandas as pd\n",
    "students = []  # Python list is similar to JavaScript array\n",
    "student1 = {'id': '1111', 'name': 'David Chan', 'email': 'david@cuhk.edu.hk'}\n",
    "student2 = {'id': '1112', 'name': 'Peter Lee', 'email': 'peter@cuhk.edu.hk'}\n",
    "student3 = {'id': '1113', 'name': 'Mary Fung', 'email': 'mary@cuhk.edu.hk'}\n",
    "students.append(student1)    # Python list append is similar to JavaScript array push\n",
    "students.append(student2)\n",
    "students.append(student3)\n",
    "\n",
    "print(students) # print out a list of dictionaries \n",
    "df = pd.DataFrame(students) # Assign the list of dictionaries to a dataframe\n",
    "df # display dataframe"
   ]
  },
  {
   "cell_type": "code",
   "execution_count": 19,
   "metadata": {},
   "outputs": [
    {
     "name": "stdout",
     "output_type": "stream",
     "text": [
      "[{'id': '1111', 'name': 'David Chan', 'email': 'david@cuhk.edu.hk'}, {'id': '1112', 'name': 'Peter Lee', 'email': 'peter@cuhk.edu.hk'}, {'id': '1113', 'name': 'Mary Fung', 'email': 'mary@cuhk.edu.hk'}]\n"
     ]
    },
    {
     "data": {
      "text/html": [
       "<div>\n",
       "<style scoped>\n",
       "    .dataframe tbody tr th:only-of-type {\n",
       "        vertical-align: middle;\n",
       "    }\n",
       "\n",
       "    .dataframe tbody tr th {\n",
       "        vertical-align: top;\n",
       "    }\n",
       "\n",
       "    .dataframe thead th {\n",
       "        text-align: right;\n",
       "    }\n",
       "</style>\n",
       "<table border=\"1\" class=\"dataframe\">\n",
       "  <thead>\n",
       "    <tr style=\"text-align: right;\">\n",
       "      <th></th>\n",
       "      <th>email</th>\n",
       "      <th>id</th>\n",
       "      <th>name</th>\n",
       "    </tr>\n",
       "  </thead>\n",
       "  <tbody>\n",
       "    <tr>\n",
       "      <th>0</th>\n",
       "      <td>david@cuhk.edu.hk</td>\n",
       "      <td>1111</td>\n",
       "      <td>David Chan</td>\n",
       "    </tr>\n",
       "    <tr>\n",
       "      <th>1</th>\n",
       "      <td>peter@cuhk.edu.hk</td>\n",
       "      <td>1112</td>\n",
       "      <td>Peter Lee</td>\n",
       "    </tr>\n",
       "    <tr>\n",
       "      <th>2</th>\n",
       "      <td>mary@cuhk.edu.hk</td>\n",
       "      <td>1113</td>\n",
       "      <td>Mary Fung</td>\n",
       "    </tr>\n",
       "  </tbody>\n",
       "</table>\n",
       "</div>"
      ],
      "text/plain": [
       "               email    id        name\n",
       "0  david@cuhk.edu.hk  1111  David Chan\n",
       "1  peter@cuhk.edu.hk  1112   Peter Lee\n",
       "2   mary@cuhk.edu.hk  1113   Mary Fung"
      ]
     },
     "execution_count": 19,
     "metadata": {},
     "output_type": "execute_result"
    }
   ],
   "source": [
    "import pandas as pd\n",
    "students = [{'id': '1111', 'name': 'David Chan', 'email': 'david@cuhk.edu.hk'}, {'id': '1112', 'name': 'Peter Lee', 'email': 'peter@cuhk.edu.hk'}, {'id': '1113', 'name': 'Mary Fung', 'email': 'mary@cuhk.edu.hk'}]\n",
    "\n",
    "print(students) # print out a list of dictionaries \n",
    "df = pd.DataFrame(students) # Assign the list of dictionaries to a dataframe\n",
    "df # display dataframe"
   ]
  },
  {
   "cell_type": "code",
   "execution_count": 20,
   "metadata": {},
   "outputs": [
    {
     "data": {
      "text/html": [
       "<div>\n",
       "<style scoped>\n",
       "    .dataframe tbody tr th:only-of-type {\n",
       "        vertical-align: middle;\n",
       "    }\n",
       "\n",
       "    .dataframe tbody tr th {\n",
       "        vertical-align: top;\n",
       "    }\n",
       "\n",
       "    .dataframe thead th {\n",
       "        text-align: right;\n",
       "    }\n",
       "</style>\n",
       "<table border=\"1\" class=\"dataframe\">\n",
       "  <thead>\n",
       "    <tr style=\"text-align: right;\">\n",
       "      <th></th>\n",
       "      <th>Student ID</th>\n",
       "      <th>Student Name</th>\n",
       "      <th>Email Address</th>\n",
       "    </tr>\n",
       "  </thead>\n",
       "  <tbody>\n",
       "    <tr>\n",
       "      <th>0</th>\n",
       "      <td>1</td>\n",
       "      <td>David Chan</td>\n",
       "      <td>dchan@cuhk.edu.hk</td>\n",
       "    </tr>\n",
       "    <tr>\n",
       "      <th>1</th>\n",
       "      <td>2</td>\n",
       "      <td>Peter Lee</td>\n",
       "      <td>plee@cuhk.edu.hk</td>\n",
       "    </tr>\n",
       "    <tr>\n",
       "      <th>2</th>\n",
       "      <td>3</td>\n",
       "      <td>John Lui</td>\n",
       "      <td>jlui@cuhk.edu.hk</td>\n",
       "    </tr>\n",
       "    <tr>\n",
       "      <th>3</th>\n",
       "      <td>4</td>\n",
       "      <td>Mary Lu</td>\n",
       "      <td>mlu@cuhk.edu.hk</td>\n",
       "    </tr>\n",
       "  </tbody>\n",
       "</table>\n",
       "</div>"
      ],
      "text/plain": [
       "   Student ID Student Name      Email Address\n",
       "0           1   David Chan  dchan@cuhk.edu.hk\n",
       "1           2    Peter Lee   plee@cuhk.edu.hk\n",
       "2           3     John Lui   jlui@cuhk.edu.hk\n",
       "3           4      Mary Lu    mlu@cuhk.edu.hk"
      ]
     },
     "execution_count": 20,
     "metadata": {},
     "output_type": "execute_result"
    }
   ],
   "source": [
    "import pandas as pd\n",
    "# define dataframe as a list of lists\n",
    "# with a header list called columns which contains the column names\n",
    "df = pd.DataFrame([\n",
    "  [1, 'David Chan', 'dchan@cuhk.edu.hk'],\n",
    "  [2, 'Peter Lee', 'plee@cuhk.edu.hk'],\n",
    "  [3,'John Lui','jlui@cuhk.edu.hk'],\n",
    "  [4,'Mary Lu','mlu@cuhk.edu.hk']\n",
    "],\n",
    "  columns=[ \n",
    "  'Student ID','Student Name','Email Address'\n",
    "  ])\n",
    "df"
   ]
  },
  {
   "cell_type": "markdown",
   "metadata": {},
   "source": [
    "<center><h2 style=\"color:#566573;\">Data Frames from Dictionary of Lists</h2></center>"
   ]
  },
  {
   "cell_type": "code",
   "execution_count": 21,
   "metadata": {},
   "outputs": [
    {
     "data": {
      "text/html": [
       "<div>\n",
       "<style scoped>\n",
       "    .dataframe tbody tr th:only-of-type {\n",
       "        vertical-align: middle;\n",
       "    }\n",
       "\n",
       "    .dataframe tbody tr th {\n",
       "        vertical-align: top;\n",
       "    }\n",
       "\n",
       "    .dataframe thead th {\n",
       "        text-align: right;\n",
       "    }\n",
       "</style>\n",
       "<table border=\"1\" class=\"dataframe\">\n",
       "  <thead>\n",
       "    <tr style=\"text-align: right;\">\n",
       "      <th></th>\n",
       "      <th>assignment scores</th>\n",
       "      <th>Jan</th>\n",
       "      <th>Feb</th>\n",
       "      <th>Mar</th>\n",
       "    </tr>\n",
       "  </thead>\n",
       "  <tbody>\n",
       "    <tr>\n",
       "      <th>0</th>\n",
       "      <td>David Chan</td>\n",
       "      <td>90</td>\n",
       "      <td>85</td>\n",
       "      <td>88</td>\n",
       "    </tr>\n",
       "    <tr>\n",
       "      <th>1</th>\n",
       "      <td>Peter Lee</td>\n",
       "      <td>72</td>\n",
       "      <td>75</td>\n",
       "      <td>68</td>\n",
       "    </tr>\n",
       "    <tr>\n",
       "      <th>2</th>\n",
       "      <td>John Lui</td>\n",
       "      <td>60</td>\n",
       "      <td>80</td>\n",
       "      <td>100</td>\n",
       "    </tr>\n",
       "  </tbody>\n",
       "</table>\n",
       "</div>"
      ],
      "text/plain": [
       "  assignment scores  Jan  Feb  Mar\n",
       "0        David Chan   90   85   88\n",
       "1         Peter Lee   72   75   68\n",
       "2          John Lui   60   80  100"
      ]
     },
     "execution_count": 21,
     "metadata": {},
     "output_type": "execute_result"
    }
   ],
   "source": [
    "# Define a dictionary of list\n",
    "scores = {'assignment scores': ['David Chan', 'Peter Lee', 'John Lui'],\n",
    "         'Jan': [90, 72, 60],\n",
    "         'Feb': [85, 75, 80],\n",
    "         'Mar': [88, 68, 100]}\n",
    "df = pd.DataFrame.from_dict(scores) # Assign the dictionary of lists to a dataframe \n",
    "df # display dataframe"
   ]
  },
  {
   "cell_type": "code",
   "execution_count": 22,
   "metadata": {},
   "outputs": [
    {
     "data": {
      "text/html": [
       "<div>\n",
       "<style scoped>\n",
       "    .dataframe tbody tr th:only-of-type {\n",
       "        vertical-align: middle;\n",
       "    }\n",
       "\n",
       "    .dataframe tbody tr th {\n",
       "        vertical-align: top;\n",
       "    }\n",
       "\n",
       "    .dataframe thead th {\n",
       "        text-align: right;\n",
       "    }\n",
       "</style>\n",
       "<table border=\"1\" class=\"dataframe\">\n",
       "  <thead>\n",
       "    <tr style=\"text-align: right;\">\n",
       "      <th></th>\n",
       "      <th>Student ID</th>\n",
       "      <th>Student Name</th>\n",
       "      <th>Email Address</th>\n",
       "    </tr>\n",
       "  </thead>\n",
       "  <tbody>\n",
       "    <tr>\n",
       "      <th>0</th>\n",
       "      <td>1111</td>\n",
       "      <td>David Chan</td>\n",
       "      <td>dchan@cuhk.edu.hk</td>\n",
       "    </tr>\n",
       "    <tr>\n",
       "      <th>1</th>\n",
       "      <td>1112</td>\n",
       "      <td>Peter Lee</td>\n",
       "      <td>plee@cuhk.edu.hk</td>\n",
       "    </tr>\n",
       "    <tr>\n",
       "      <th>2</th>\n",
       "      <td>1113</td>\n",
       "      <td>John Lui</td>\n",
       "      <td>jlui@cuhk.edu.hk</td>\n",
       "    </tr>\n",
       "    <tr>\n",
       "      <th>3</th>\n",
       "      <td>1114</td>\n",
       "      <td>Mary Lu</td>\n",
       "      <td>mlu@cuhk.edu.hk</td>\n",
       "    </tr>\n",
       "  </tbody>\n",
       "</table>\n",
       "</div>"
      ],
      "text/plain": [
       "   Student ID Student Name      Email Address\n",
       "0        1111   David Chan  dchan@cuhk.edu.hk\n",
       "1        1112    Peter Lee   plee@cuhk.edu.hk\n",
       "2        1113     John Lui   jlui@cuhk.edu.hk\n",
       "3        1114      Mary Lu    mlu@cuhk.edu.hk"
      ]
     },
     "execution_count": 22,
     "metadata": {},
     "output_type": "execute_result"
    }
   ],
   "source": [
    "# Define a dictionary of list directily inside the data frame\n",
    "import pandas as pd\n",
    "scores = {\n",
    " 'Student ID': [1111, 1112, 1113, 1114],\n",
    " 'Student Name': ['David Chan','Peter Lee','John Lui','Mary Lu'],\n",
    " 'Email Address':['dchan@cuhk.edu.hk','plee@cuhk.edu.hk','jlui@cuhk.edu.hk','mlu@cuhk.edu.hk']\n",
    "}\n",
    "df = pd.DataFrame(scores)\n",
    "df"
   ]
  },
  {
   "cell_type": "code",
   "execution_count": 23,
   "metadata": {},
   "outputs": [
    {
     "data": {
      "text/html": [
       "<div>\n",
       "<style scoped>\n",
       "    .dataframe tbody tr th:only-of-type {\n",
       "        vertical-align: middle;\n",
       "    }\n",
       "\n",
       "    .dataframe tbody tr th {\n",
       "        vertical-align: top;\n",
       "    }\n",
       "\n",
       "    .dataframe thead th {\n",
       "        text-align: right;\n",
       "    }\n",
       "</style>\n",
       "<table border=\"1\" class=\"dataframe\">\n",
       "  <thead>\n",
       "    <tr style=\"text-align: right;\">\n",
       "      <th></th>\n",
       "      <th>Student ID</th>\n",
       "      <th>Student Name</th>\n",
       "      <th>Email Address</th>\n",
       "    </tr>\n",
       "  </thead>\n",
       "  <tbody>\n",
       "    <tr>\n",
       "      <th>0</th>\n",
       "      <td>1111</td>\n",
       "      <td>David Chan</td>\n",
       "      <td>dchan@cuhk.edu.hk</td>\n",
       "    </tr>\n",
       "    <tr>\n",
       "      <th>1</th>\n",
       "      <td>1112</td>\n",
       "      <td>Peter Lee</td>\n",
       "      <td>plee@cuhk.edu.hk</td>\n",
       "    </tr>\n",
       "    <tr>\n",
       "      <th>2</th>\n",
       "      <td>1113</td>\n",
       "      <td>John Lui</td>\n",
       "      <td>jlui@cuhk.edu.hk</td>\n",
       "    </tr>\n",
       "    <tr>\n",
       "      <th>3</th>\n",
       "      <td>1114</td>\n",
       "      <td>Mary Lu</td>\n",
       "      <td>mlu@cuhk.edu.hk</td>\n",
       "    </tr>\n",
       "  </tbody>\n",
       "</table>\n",
       "</div>"
      ],
      "text/plain": [
       "   Student ID Student Name      Email Address\n",
       "0        1111   David Chan  dchan@cuhk.edu.hk\n",
       "1        1112    Peter Lee   plee@cuhk.edu.hk\n",
       "2        1113     John Lui   jlui@cuhk.edu.hk\n",
       "3        1114      Mary Lu    mlu@cuhk.edu.hk"
      ]
     },
     "execution_count": 23,
     "metadata": {},
     "output_type": "execute_result"
    }
   ],
   "source": [
    "# Define a dictionary of list directily inside the data frame\n",
    "import pandas as pd\n",
    "df = pd.DataFrame({ # Define dataframe as a dictionary object\n",
    "  'Student ID': [1111, 1112, 1113, 1114],\n",
    "'Student Name': ['David Chan','Peter Lee','John Lui','Mary Lu'],\n",
    "'Email Address':['dchan@cuhk.edu.hk','plee@cuhk.edu.hk','jlui@cuhk.edu.hk','mlu@cuhk.edu.hk']\n",
    "})\n",
    "df"
   ]
  },
  {
   "cell_type": "markdown",
   "metadata": {},
   "source": [
    "<h1><center>Saving To and Retrieving From CSV Files </center></h1>"
   ]
  },
  {
   "cell_type": "code",
   "execution_count": 24,
   "metadata": {},
   "outputs": [
    {
     "data": {
      "text/html": [
       "<div>\n",
       "<style scoped>\n",
       "    .dataframe tbody tr th:only-of-type {\n",
       "        vertical-align: middle;\n",
       "    }\n",
       "\n",
       "    .dataframe tbody tr th {\n",
       "        vertical-align: top;\n",
       "    }\n",
       "\n",
       "    .dataframe thead th {\n",
       "        text-align: right;\n",
       "    }\n",
       "</style>\n",
       "<table border=\"1\" class=\"dataframe\">\n",
       "  <thead>\n",
       "    <tr style=\"text-align: right;\">\n",
       "      <th></th>\n",
       "      <th>Feb</th>\n",
       "      <th>Jan</th>\n",
       "      <th>Mar</th>\n",
       "      <th>assignment scores</th>\n",
       "    </tr>\n",
       "  </thead>\n",
       "  <tbody>\n",
       "    <tr>\n",
       "      <th>0</th>\n",
       "      <td>85</td>\n",
       "      <td>90</td>\n",
       "      <td>88</td>\n",
       "      <td>David Chan</td>\n",
       "    </tr>\n",
       "    <tr>\n",
       "      <th>1</th>\n",
       "      <td>75</td>\n",
       "      <td>72</td>\n",
       "      <td>68</td>\n",
       "      <td>Peter Lee</td>\n",
       "    </tr>\n",
       "    <tr>\n",
       "      <th>2</th>\n",
       "      <td>80</td>\n",
       "      <td>60</td>\n",
       "      <td>100</td>\n",
       "      <td>John Wong</td>\n",
       "    </tr>\n",
       "  </tbody>\n",
       "</table>\n",
       "</div>"
      ],
      "text/plain": [
       "   Feb  Jan  Mar assignment scores\n",
       "0   85   90   88        David Chan\n",
       "1   75   72   68         Peter Lee\n",
       "2   80   60  100         John Wong"
      ]
     },
     "execution_count": 24,
     "metadata": {},
     "output_type": "execute_result"
    }
   ],
   "source": [
    "import pandas as pd\n",
    "# Define a list of dictionaries\n",
    "scores = [{'assignment scores': 'David Chan', 'Jan': 90, 'Feb': 85, 'Mar': 88},\n",
    "         {'assignment scores': 'Peter Lee',  'Jan': 72, 'Feb': 75, 'Mar': 68},\n",
    "         {'assignment scores': 'John Wong',  'Jan': 60,  'Feb': 80,  'Mar': 100 }]\n",
    "df = pd.DataFrame(scores) # Assign the list of dictionaries to a dataframe\n",
    "df # display dataframe\n",
    "df.to_csv('students.csv',mode='w',index=False)\n",
    "df"
   ]
  },
  {
   "cell_type": "markdown",
   "metadata": {},
   "source": [
    "<center><h2 style=\"color:#566573;\">Reading Data From a CSV File Into a Pandas Data Frame</h2></center>"
   ]
  },
  {
   "cell_type": "code",
   "execution_count": 25,
   "metadata": {},
   "outputs": [
    {
     "data": {
      "text/html": [
       "<div>\n",
       "<style scoped>\n",
       "    .dataframe tbody tr th:only-of-type {\n",
       "        vertical-align: middle;\n",
       "    }\n",
       "\n",
       "    .dataframe tbody tr th {\n",
       "        vertical-align: top;\n",
       "    }\n",
       "\n",
       "    .dataframe thead th {\n",
       "        text-align: right;\n",
       "    }\n",
       "</style>\n",
       "<table border=\"1\" class=\"dataframe\">\n",
       "  <thead>\n",
       "    <tr style=\"text-align: right;\">\n",
       "      <th></th>\n",
       "      <th>Feb</th>\n",
       "      <th>Jan</th>\n",
       "      <th>Mar</th>\n",
       "      <th>assignment scores</th>\n",
       "    </tr>\n",
       "  </thead>\n",
       "  <tbody>\n",
       "    <tr>\n",
       "      <th>0</th>\n",
       "      <td>85</td>\n",
       "      <td>90</td>\n",
       "      <td>88</td>\n",
       "      <td>David Chan</td>\n",
       "    </tr>\n",
       "    <tr>\n",
       "      <th>1</th>\n",
       "      <td>75</td>\n",
       "      <td>72</td>\n",
       "      <td>68</td>\n",
       "      <td>Peter Lee</td>\n",
       "    </tr>\n",
       "    <tr>\n",
       "      <th>2</th>\n",
       "      <td>80</td>\n",
       "      <td>60</td>\n",
       "      <td>100</td>\n",
       "      <td>John Wong</td>\n",
       "    </tr>\n",
       "  </tbody>\n",
       "</table>\n",
       "</div>"
      ],
      "text/plain": [
       "   Feb  Jan  Mar assignment scores\n",
       "0   85   90   88        David Chan\n",
       "1   75   72   68         Peter Lee\n",
       "2   80   60  100         John Wong"
      ]
     },
     "execution_count": 25,
     "metadata": {},
     "output_type": "execute_result"
    }
   ],
   "source": [
    "import pandas as pd\n",
    "df = pd.read_csv(\"students.csv\") # import csv file by using the read_csv functon in Pandas\n",
    "df # list the dataframe"
   ]
  },
  {
   "cell_type": "code",
   "execution_count": 2,
   "metadata": {},
   "outputs": [
    {
     "data": {
      "image/png": "[encoded data removed]",
      "text/plain": [
       "<Figure size 432x288 with 1 Axes>"
      ]
     },
     "metadata": {
      "needs_background": "light"
     },
     "output_type": "display_data"
    }
   ],
   "source": [
    "from matplotlib import pyplot as plt\n",
    "x_values = [0, 1, 2, 3, 4]\n",
    "y_values = [0, 1, 4, 9, 16]\n",
    "plt.plot(x_values, y_values)\n",
    "plt.show()"
   ]
  },
  {
   "cell_type": "code",
   "execution_count": 3,
   "metadata": {},
   "outputs": [
    {
     "data": {
      "image/png": "[encoded data removed]",
      "text/plain": [
       "<Figure size 432x288 with 1 Axes>"
      ]
     },
     "metadata": {
      "needs_background": "light"
     },
     "output_type": "display_data"
    }
   ],
   "source": [
    "from matplotlib import pyplot as plt\n",
    "days = range(7)\n",
    "money_spent = [10,12,12,10,14,22,24]\n",
    "plt.plot(days,money_spent)\n",
    "plt.show()"
   ]
  },
  {
   "cell_type": "code",
   "execution_count": 6,
   "metadata": {},
   "outputs": [
    {
     "data": {
      "image/png": "[encoded data removed]",
      "text/plain": [
       "<Figure size 432x288 with 1 Axes>"
      ]
     },
     "metadata": {
      "needs_background": "light"
     },
     "output_type": "display_data"
    }
   ],
   "source": [
    "from matplotlib import pyplot as plt\n",
    "time = [0, 1, 2, 3, 4]\n",
    "# time = range(5)\n",
    "salary = [200, 400, 650, 800, 850]\n",
    "expenses = [150, 500, 550, 550, 560]\n",
    "plt.plot(time, salary)\n",
    "plt.plot(time, expenses)\n",
    "plt.show()"
   ]
  },
  {
   "cell_type": "code",
   "execution_count": 5,
   "metadata": {},
   "outputs": [
    {
     "data": {
      "image/png": "[encoded data removed]",
      "text/plain": [
       "<Figure size 432x288 with 1 Axes>"
      ]
     },
     "metadata": {
      "needs_background": "light"
     },
     "output_type": "display_data"
    }
   ],
   "source": [
    "from matplotlib import pyplot as plt\n",
    "time = [0, 1, 2, 3, 4]\n",
    "salary = [200, 400, 650, 800, 850]\n",
    "expenses = [150, 500, 550, 550, 560]\n",
    "plt.plot(time, salary, color='purple',linestyle='--')\n",
    "plt.plot(time, expenses, color='#82edc9',marker='s')\n",
    "plt.legend(['Salary', 'Expenses']) \n",
    "plt.xlabel(\"Time\")\n",
    "plt.ylabel(\"Dollars $\")\n",
    "plt.title('Salary and Expenses Comparison')\n",
    "plt.show()"
   ]
  },
  {
   "cell_type": "markdown",
   "metadata": {},
   "source": [
    "<center><h2 style=\"color:#566573;\">Thank You for Your Time!</h2></center>"
   ]
  }
 ],
 "metadata": {
  "kernelspec": {
   "display_name": "Python 3",
   "language": "python",
   "name": "python3"
  },
  "language_info": {
   "codemirror_mode": {
    "name": "ipython",
    "version": 3
   },
   "file_extension": ".py",
   "mimetype": "text/x-python",
   "name": "python",
   "nbconvert_exporter": "python",
   "pygments_lexer": "ipython3",
   "version": "3.7.3"
  }
 },
 "nbformat": 4,
 "nbformat_minor": 2
}
